{
 "cells": [
  {
   "cell_type": "markdown",
   "id": "75c35fa7",
   "metadata": {},
   "source": [
    "##### Libraries"
   ]
  },
  {
   "cell_type": "code",
   "execution_count": 1,
   "id": "63295cd6",
   "metadata": {},
   "outputs": [
    {
     "name": "stdout",
     "output_type": "stream",
     "text": [
      "Current working directory: c:\\Users\\TEMP\\OneDrive\\PPGAO_2024_2027\\2025\\UAS-Planner\\Godot-UAV-Simulator\\sandbox\n"
     ]
    }
   ],
   "source": [
    "import numpy as np\n",
    "import pandas as pd\n",
    "import sys\n",
    "from pathlib import Path\n",
    "# Get current working directory\n",
    "current_dir = Path.cwd()\n",
    "sys.path.append(str(current_dir.parent/\"data\"))\n",
    "print(\"Current working directory:\", current_dir)"
   ]
  },
  {
   "cell_type": "markdown",
   "id": "63dd7007",
   "metadata": {},
   "source": [
    "##### Process CSV data and extract Voxels parameters"
   ]
  },
  {
   "cell_type": "code",
   "execution_count": 2,
   "id": "7d47e3a0",
   "metadata": {},
   "outputs": [],
   "source": [
    "class DataProcessor:\n",
    "    def __init__(self, file_path):\n",
    "        self.file_path = file_path\n",
    "        self.pd_df = None\n",
    "        self.np_array = None\n",
    "\n",
    "    def process_csv(self):\n",
    "        self.pd_df = pd.read_csv(self.file_path)\n",
    "        self.np_array = self.pd_df.to_numpy()\n",
    "        if self.np_array is not None:\n",
    "            latitudes = self.np_array[:, 1]\n",
    "            longitudes = self.np_array[:, 2]\n",
    "            altitudes = self.np_array[:, 0]\n",
    "            max_lat = latitudes.max()\n",
    "            min_lat = latitudes.min()\n",
    "            max_lon = longitudes.max()\n",
    "            min_lon = longitudes.min()\n",
    "            max_alt = altitudes.max()\n",
    "            min_alt = altitudes.min()\n",
    "        else:\n",
    "            raise ValueError(\"Data not loaded. Please read the CSV file first.\")\n",
    "        return (min_lat, max_lat, min_lon, max_lon, min_alt, max_alt)\n",
    "        "
   ]
  },
  {
   "cell_type": "code",
   "execution_count": 3,
   "id": "7d186599",
   "metadata": {},
   "outputs": [
    {
     "name": "stdout",
     "output_type": "stream",
     "text": [
      "<class 'numpy.ndarray'>\n",
      "[[400.          40.55417343 -73.91250593]\n",
      " [400.          40.55417343 -73.90417259]\n",
      " [400.          40.55417343 -73.89583926]\n",
      " ...\n",
      " [400.          40.88750683 -73.87083925]\n",
      " [400.          40.88750683 -73.86250592]\n",
      " [400.          40.88750683 -73.85417258]]\n",
      "Min Latitude: 40.55417343, Max Latitude: 40.88750683\n",
      "Min Longitude: -73.99583928, Max Longitude: -73.5958392\n",
      "Min Altitude: 0.0, Max Altitude: 400.0\n",
      "CSV file processed successfully.\n"
     ]
    }
   ],
   "source": [
    "csv_file_path = \"C:\\\\Users\\\\TEMP\\\\OneDrive\\\\PPGAO_2024_2027\\\\2025\\\\UAS-Planner\\\\Godot-UAV-Simulator\\\\data\\\\Filtered_FAA_UAS_FacilityMap_Data_LGA.csv\"\n",
    "csv_to_nparray = DataProcessor(csv_file_path)\n",
    "csv_to_nparray.process_csv()\n",
    "\n",
    "min_lat,max_lat, min_lon, max_lon, min_alt, max_alt = csv_to_nparray.process_csv()\n",
    "\n",
    "print(type(csv_to_nparray.np_array))\n",
    "print(csv_to_nparray.np_array)\n",
    "print(f\"Min Latitude: {min_lat}, Max Latitude: {max_lat}\")\n",
    "print(f\"Min Longitude: {min_lon}, Max Longitude: {max_lon}\")\n",
    "print(f\"Min Altitude: {min_alt}, Max Altitude: {max_alt}\")\n",
    "print(\"CSV file processed successfully.\")"
   ]
  },
  {
   "cell_type": "code",
   "execution_count": 4,
   "id": "4b40f117",
   "metadata": {},
   "outputs": [],
   "source": [
    "class VoxelDataFrame:\n",
    "    \n",
    "    def __init__(self,input_np_array, voxel_size, voxel_edge_size, min_lat, min_lon, min_alt):\n",
    "        \"\"\"Initialize the VoxelDataFrame with a numpy array.\"\"\"\n",
    "        self.input_np_array = input_np_array\n",
    "        self.id = np.zeros(voxel_size, dtype=tuple)\n",
    "        self.position_meters = np.zeros(voxel_size, dtype=tuple)\n",
    "        self.position_degrees = np.zeros(voxel_size, dtype=tuple)\n",
    "        self.available: bool = None\n",
    "        self.forbiden: bool = None\n",
    "        self.voxel_size = voxel_size\n",
    "        self.voxel_edge_size = voxel_edge_size\n",
    "        self.min_lat: float = min_lat\n",
    "        self.min_lon: float = min_lon\n",
    "        self.min_alt: float = min_alt\n",
    "    \n",
    "    def build_voxel_dataframe(self):\n",
    "        \"\"\"Build the voxel dataframe from the input numpy array.\"\"\"\n",
    "        \n",
    "        if self.input_np_array is not None:\n",
    "            shape = self.input_np_array.shape\n",
    "\n",
    "            # Create grid indices for all voxels\n",
    "            i, j, k = np.indices(self.voxel_size)\n",
    "\n",
    "            # Assign voxel ids\n",
    "            self.id = np.stack((i, j, k), axis=-1)\n",
    "\n",
    "            # Calculate positions in meters (center of each voxel)\n",
    "            self.position_meters = np.stack(\n",
    "                (i * self.voxel_edge_size / 2, j * self.voxel_edge_size / 2, k * self.voxel_edge_size / 2),\n",
    "                axis=-1\n",
    "            )\n",
    "\n",
    "            # Calculate positions in degrees\n",
    "            latitudes = self.min_lat-0.008 + ((i * self.voxel_edge_size / 111320)/2)\n",
    "            longitudes = self.min_lon-0.008 + ((j * self.voxel_edge_size / (111320 * np.cos(np.radians(self.min_lat))))/2)\n",
    "            altitudes = self.min_alt + (k * self.voxel_edge_size/2 )\n",
    "            self.position_degrees = np.stack((latitudes, longitudes, altitudes), axis=-1)\n"
   ]
  },
  {
   "cell_type": "markdown",
   "id": "cd020fcb",
   "metadata": {},
   "source": []
  },
  {
   "cell_type": "code",
   "execution_count": 5,
   "id": "72072d0c",
   "metadata": {},
   "outputs": [
    {
     "name": "stdout",
     "output_type": "stream",
     "text": [
      "Number of voxels in latitude: 648\n",
      "Number of voxels in longitude: 584\n",
      "Number of voxels in altitude: 2\n",
      "Voxel array dimensions : (648, 584, 2)\n"
     ]
    }
   ],
   "source": [
    "#Voxels dimensions calculations\n",
    "voxel_edge_size = 60  # Edge size of the voxel in meters\n",
    "\n",
    "# Calculate the number of voxels in each dimension\n",
    "num_voxels_lat = int((max_lat - min_lat+0.016)*111320.0 / voxel_edge_size)\n",
    "num_voxels_lon = int((max_lon - min_lon+0.016)*111320.0*np.cos(np.radians((max_lat + min_lat) / 2)) / voxel_edge_size)\n",
    "num_voxels_alt = int((max_alt - min_alt)*0.3048 / voxel_edge_size)\n",
    "\n",
    "voxel_np_array_size = (num_voxels_lat, num_voxels_lon, num_voxels_alt)\n",
    "\n",
    "\n",
    "print(f\"Number of voxels in latitude: {num_voxels_lat}\")\n",
    "print(f\"Number of voxels in longitude: {num_voxels_lon}\")\n",
    "print(f\"Number of voxels in altitude: {num_voxels_alt}\")\n",
    "print(f\"Voxel array dimensions : {voxel_np_array_size}\")"
   ]
  },
  {
   "cell_type": "code",
   "execution_count": 6,
   "id": "8379b352",
   "metadata": {},
   "outputs": [
    {
     "ename": "TypeError",
     "evalue": "VoxelDataFrame.__init__() missing 1 required positional argument: 'min_alt'",
     "output_type": "error",
     "traceback": [
      "\u001b[1;31m---------------------------------------------------------------------------\u001b[0m",
      "\u001b[1;31mTypeError\u001b[0m                                 Traceback (most recent call last)",
      "Cell \u001b[1;32mIn[6], line 1\u001b[0m\n\u001b[1;32m----> 1\u001b[0m voxel_df \u001b[38;5;241m=\u001b[39m VoxelDataFrame(csv_file_path, min_lat, max_lat, min_lon, max_lon)\n\u001b[0;32m      2\u001b[0m voxel_df\u001b[38;5;241m.\u001b[39mread_csv(csv_file_path)\n\u001b[0;32m      3\u001b[0m voxel_df\u001b[38;5;241m.\u001b[39mprint_numpy_data()\n",
      "\u001b[1;31mTypeError\u001b[0m: VoxelDataFrame.__init__() missing 1 required positional argument: 'min_alt'"
     ]
    }
   ],
   "source": [
    "voxel_df = VoxelDataFrame(csv_file_path, min_lat, max_lat, min_lon, max_lon)\n",
    "voxel_df.read_csv(csv_file_path)\n",
    "voxel_df.print_numpy_data()"
   ]
  }
 ],
 "metadata": {
  "kernelspec": {
   "display_name": "base",
   "language": "python",
   "name": "python3"
  },
  "language_info": {
   "codemirror_mode": {
    "name": "ipython",
    "version": 3
   },
   "file_extension": ".py",
   "mimetype": "text/x-python",
   "name": "python",
   "nbconvert_exporter": "python",
   "pygments_lexer": "ipython3",
   "version": "3.11.7"
  }
 },
 "nbformat": 4,
 "nbformat_minor": 5
}
